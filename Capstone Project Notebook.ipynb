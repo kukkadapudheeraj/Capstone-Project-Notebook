{
    "cells": [
        {
            "metadata": {},
            "cell_type": "code",
            "source": "\n\n#1. Import the pandas library as pd.\nimport pandas as pd\n\n",
            "execution_count": null,
            "outputs": []
        },
        {
            "metadata": {},
            "cell_type": "markdown",
            "source": "This notebook will be mainly used for the capstone project for IBM Data Science Capstone course on Coursera."
        },
        {
            "metadata": {},
            "cell_type": "code",
            "source": "#3. Import the Numpy library as np.\nimport numpy as np\n",
            "execution_count": null,
            "outputs": []
        },
        {
            "metadata": {},
            "cell_type": "code",
            "source": "#4. Print the following the statement: Hello Capstone Project Course!\nprint(\"Hello Capstone Project Course!\")",
            "execution_count": null,
            "outputs": []
        }
    ],
    "metadata": {
        "kernelspec": {
            "name": "python3",
            "display_name": "Python 3.6",
            "language": "python"
        },
        "language_info": {
            "name": "python",
            "version": "3.6.9",
            "mimetype": "text/x-python",
            "codemirror_mode": {
                "name": "ipython",
                "version": 3
            },
            "pygments_lexer": "ipython3",
            "nbconvert_exporter": "python",
            "file_extension": ".py"
        }
    },
    "nbformat": 4,
    "nbformat_minor": 1
}